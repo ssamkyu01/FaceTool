{
 "cells": [
  {
   "cell_type": "code",
   "execution_count": 5,
   "metadata": {},
   "outputs": [
    {
     "name": "stdout",
     "output_type": "stream",
     "text": [
      "<moviepy.video.io.VideoFileClip.VideoFileClip object at 0x7fed4873bee0>\n",
      "<generator object Clip.iter_frames at 0x7fecc636ac00>\n"
     ]
    },
    {
     "ename": "NameError",
     "evalue": "name 'np' is not defined",
     "output_type": "error",
     "traceback": [
      "\u001b[0;31m---------------------------------------------------------------------------\u001b[0m",
      "\u001b[0;31mNameError\u001b[0m                                 Traceback (most recent call last)",
      "Cell \u001b[0;32mIn[5], line 11\u001b[0m\n\u001b[1;32m      8\u001b[0m frame_iter \u001b[39m=\u001b[39m video\u001b[39m.\u001b[39miter_frames()\n\u001b[1;32m      9\u001b[0m \u001b[39mprint\u001b[39m(frame_iter)\n\u001b[0;32m---> 11\u001b[0m n_frames \u001b[39m=\u001b[39m \u001b[39mint\u001b[39m(np\u001b[39m.\u001b[39mfloor(video\u001b[39m.\u001b[39mfps \u001b[39m*\u001b[39m video\u001b[39m.\u001b[39mduration))\n\u001b[1;32m     12\u001b[0m scale \u001b[39m=\u001b[39m video\u001b[39m.\u001b[39mw \u001b[39m/\u001b[39m \u001b[39mself\u001b[39m\u001b[39m.\u001b[39msize[\u001b[39m0\u001b[39m], video\u001b[39m.\u001b[39mh \u001b[39m/\u001b[39m \u001b[39mself\u001b[39m\u001b[39m.\u001b[39msize[\u001b[39m1\u001b[39m]\n\u001b[1;32m     14\u001b[0m results \u001b[39m=\u001b[39m []\n",
      "\u001b[0;31mNameError\u001b[0m: name 'np' is not defined"
     ]
    }
   ],
   "source": [
    "import moviepy.editor as mpe\n",
    "import numpy as np \n",
    "\n",
    "path = \"./ani_test.mp4\"\n",
    "sizeDefault=[320, 155]\n",
    "video = mpe.VideoFileClip(path)\n",
    "frame_iter = video.iter_frames()\n",
    "\n",
    "n_frames = int(np.floor(video.fps * video.duration))\n",
    "print(n_frames)\n",
    "scale = video.w / sizeDefault[0], video.h /sizeDefault[1]\n",
    "\n",
    "results = []\n",
    "iterator = range(0, n_frames, 1)"
   ]
  }
 ],
 "metadata": {
  "kernelspec": {
   "display_name": "Python 3",
   "language": "python",
   "name": "python3"
  },
  "language_info": {
   "codemirror_mode": {
    "name": "ipython",
    "version": 3
   },
   "file_extension": ".py",
   "mimetype": "text/x-python",
   "name": "python",
   "nbconvert_exporter": "python",
   "pygments_lexer": "ipython3",
   "version": "3.10.6"
  },
  "orig_nbformat": 4
 },
 "nbformat": 4,
 "nbformat_minor": 2
}
